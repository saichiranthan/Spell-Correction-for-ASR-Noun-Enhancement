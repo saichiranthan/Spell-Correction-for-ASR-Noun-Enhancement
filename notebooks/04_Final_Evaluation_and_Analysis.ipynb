{
 "cells": [
  {
   "cell_type": "markdown",
   "id": "dc24fa53",
   "metadata": {},
   "source": [
    "# 4. Final Evaluation and Comprehensive Analysis\n",
    "\n",
    "This notebook serves as the final step in our spell correction task. Here, we consolidate the results from both the baseline and advanced models to perform a comprehensive comparison. \n",
    "\n",
    "The process is as follows:\n",
    "1.  **Load Datasets**: Import the `train`, `validation`, and `test` sets.\n",
    "2.  **Recreate Baseline Models**: We will rebuild the vocabulary and n-gram models from the training data and apply them to the validation set to generate predictions. This is how rule-based models are \"reused.\"\n",
    "3.  **Run Advanced Model Inference**: Generate predictions for the `t5-base` and `SciFive-base` models on the test set using the saved fine-tuned weights.\n",
    "4.  **Comprehensive Evaluation**: Compare all four models across a suite of metrics: Sentence Accuracy, Word Accuracy, Noun Accuracy, Character Error Rate (CER), and the newly added BLEU-4 Score.\n",
    "5.  **Deeper Analysis**: Analyze the best-performing model (`SciFive-base`) to understand its performance across different noun categories and how sentence length impacts its accuracy."
   ]
  },
  {
   "cell_type": "code",
   "execution_count": 1,
   "id": "92d742cf",
   "metadata": {},
   "outputs": [
    {
     "name": "stdout",
     "output_type": "stream",
     "text": [
      "Using device: cuda\n"
     ]
    },
    {
     "name": "stderr",
     "output_type": "stream",
     "text": [
      "c:\\Users\\chira\\AppData\\Local\\Programs\\Python\\Python312\\Lib\\site-packages\\spacy\\util.py:910: UserWarning: [W095] Model 'en_core_web_sm' (3.8.0) was trained with spaCy v3.8.0 and may not be 100% compatible with the current version (3.7.5). If you see errors or degraded performance, download a newer compatible model or retrain your custom model with the current spaCy version. For more details and available updates, run: python -m spacy validate\n",
      "  warnings.warn(warn_msg)\n"
     ]
    }
   ],
   "source": [
    "import pandas as pd\n",
    "import numpy as np\n",
    "import ast\n",
    "import spacy\n",
    "import torch\n",
    "import matplotlib.pyplot as plt\n",
    "import seaborn as sns\n",
    "from collections import Counter\n",
    "from tqdm.notebook import tqdm\n",
    "\n",
    "# NLTK imports for metrics\n",
    "from nltk.metrics.distance import edit_distance\n",
    "from nltk.translate.bleu_score import sentence_bleu, SmoothingFunction\n",
    "\n",
    "# Transformers imports for inference\n",
    "from transformers import T5ForConditionalGeneration, T5Tokenizer\n",
    "\n",
    "# --- Configuration ---\n",
    "tqdm.pandas()\n",
    "sns.set_style(\"whitegrid\")\n",
    "device = \"cuda\" if torch.cuda.is_available() else \"cpu\"\n",
    "print(f\"Using device: {device}\")\n",
    "\n",
    "# Load spaCy model\n",
    "try:\n",
    "    nlp = spacy.load(\"en_core_web_sm\")\n",
    "except OSError:\n",
    "    print(\"Downloading 'en_core_web_sm'...\")\n",
    "    nlp = spacy.load(\"en_core_web_sm\")"
   ]
  },
  {
   "cell_type": "markdown",
   "id": "be58e4c5",
   "metadata": {},
   "source": [
    "## 2. Data Loading\n",
    "\n",
    "Load the pre-split datasets. We need the training set to build the vocabulary and N-gram statistics for our baseline models."
   ]
  },
  {
   "cell_type": "code",
   "execution_count": 2,
   "id": "3a9a123c",
   "metadata": {},
   "outputs": [
    {
     "name": "stdout",
     "output_type": "stream",
     "text": [
      "Training data loaded: 7000 rows\n",
      "Validation data loaded: 1500 rows\n",
      "Test data loaded: 1500 rows\n"
     ]
    }
   ],
   "source": [
    "try:\n",
    "    train_df = pd.read_csv('../dataset/train.csv')\n",
    "    val_df = pd.read_csv('../dataset/validation.csv')\n",
    "    test_df = pd.read_csv('../dataset/test.csv')\n",
    "except FileNotFoundError as e:\n",
    "    print(f\"Error loading data: {e}. Make sure datasets are in the '../dataset/' directory.\")\n",
    "    # Create empty dataframes to avoid further errors\n",
    "    train_df, val_df, test_df = pd.DataFrame(), pd.DataFrame(), pd.DataFrame()\n",
    "\n",
    "# Safely convert 'target_nouns' from string representation back to list\n",
    "for df in [val_df, test_df]:\n",
    "    if 'target_nouns' in df.columns:\n",
    "        df['target_nouns'] = df['target_nouns'].fillna('[]').apply(ast.literal_eval)\n",
    "\n",
    "print(f\"Training data loaded: {len(train_df)} rows\")\n",
    "print(f\"Validation data loaded: {len(val_df)} rows\")\n",
    "print(f\"Test data loaded: {len(test_df)} rows\")"
   ]
  },
  {
   "cell_type": "markdown",
   "id": "9f9fd089",
   "metadata": {},
   "source": [
    "## 3. Recreate and Run Baseline Models\n",
    "\n",
    "Baseline models like Levenshtein search or N-gram correctors are not \"trained\" in the same way as neural networks. Instead, they rely on a vocabulary and frequency statistics derived from a corpus. \n",
    "\n",
    "To \"reuse\" them for evaluation, we simply rebuild these dependencies from our training data and then apply the correction logic to the validation set."
   ]
  },
  {
   "cell_type": "code",
   "execution_count": 3,
   "id": "ad285fa4",
   "metadata": {},
   "outputs": [
    {
     "name": "stdout",
     "output_type": "stream",
     "text": [
      "Building vocabulary and N-gram models from training data...\n",
      "Vocabulary built with 9188 unique words.\n",
      "Bigram model built with 26628 unique bigrams.\n",
      "\n",
      "Applying Levenshtein correction to the TEST set...\n"
     ]
    },
    {
     "data": {
      "application/vnd.jupyter.widget-view+json": {
       "model_id": "537913328156459d9f845d3f9f27ab0b",
       "version_major": 2,
       "version_minor": 0
      },
      "text/plain": [
       "  0%|          | 0/1500 [00:00<?, ?it/s]"
      ]
     },
     "metadata": {},
     "output_type": "display_data"
    },
    {
     "name": "stdout",
     "output_type": "stream",
     "text": [
      "Applying N-gram correction to the TEST set...\n"
     ]
    },
    {
     "data": {
      "application/vnd.jupyter.widget-view+json": {
       "model_id": "0e4e65a0c12449199bfc2da3a6257ffb",
       "version_major": 2,
       "version_minor": 0
      },
      "text/plain": [
       "  0%|          | 0/1500 [00:00<?, ?it/s]"
      ]
     },
     "metadata": {},
     "output_type": "display_data"
    },
    {
     "name": "stdout",
     "output_type": "stream",
     "text": [
      "\n",
      "Baseline predictions generated for the test set.\n"
     ]
    }
   ],
   "source": [
    "# --- 1. Build Dependencies from Training Data ---\n",
    "print(\"Building vocabulary and N-gram models from training data...\")\n",
    "\n",
    "# Vocabulary for both baselines\n",
    "all_correct_words = ' '.join(train_df['correct_cleaned_baseline'].astype(str)).split()\n",
    "vocabulary = set(all_correct_words)\n",
    "\n",
    "# N-gram counts for the N-gram model\n",
    "bigram_counts = Counter()\n",
    "for sentence in train_df['correct_cleaned_baseline']:\n",
    "    words = ['<s>'] + str(sentence).split() + ['</s>'] # Add start/end tokens\n",
    "    bigram_counts.update(zip(words, words[1:]))\n",
    "\n",
    "print(f\"Vocabulary built with {len(vocabulary)} unique words.\")\n",
    "print(f\"Bigram model built with {len(bigram_counts)} unique bigrams.\")\n",
    "\n",
    "# --- 2. Define Baseline Correction Functions (from Notebook 02) ---\n",
    "MAX_EDIT_DISTANCE = 2\n",
    "\n",
    "def get_levenshtein_correction(word, vocab):\n",
    "    if word in vocab:\n",
    "        return word\n",
    "    suggestions = [(edit_distance(word, v_word), v_word) for v_word in vocab if abs(len(word) - len(v_word)) <= MAX_EDIT_DISTANCE]\n",
    "    if not suggestions:\n",
    "        return word\n",
    "    best_suggestion = min(suggestions, key=lambda x: x[0])\n",
    "    return best_suggestion[1] if best_suggestion[0] <= MAX_EDIT_DISTANCE else word\n",
    "\n",
    "def baseline_sentence_correction(sentence, vocab):\n",
    "    words = str(sentence).split()\n",
    "    corrected_words = [get_levenshtein_correction(word, vocab) for word in words]\n",
    "    return ' '.join(corrected_words)\n",
    "\n",
    "def get_ngram_correction(previous_word, current_word, vocab):\n",
    "    if current_word in vocab:\n",
    "        return current_word\n",
    "    suggestions = [v_word for v_word in vocab if edit_distance(current_word, v_word) <= MAX_EDIT_DISTANCE]\n",
    "    if not suggestions:\n",
    "        return current_word\n",
    "    \n",
    "    best_candidate = current_word\n",
    "    max_score = -1\n",
    "    for candidate in suggestions:\n",
    "        score = bigram_counts.get((previous_word, candidate), 0)\n",
    "        if score > max_score:\n",
    "            max_score = score\n",
    "            best_candidate = candidate\n",
    "    return best_candidate\n",
    "\n",
    "def ngram_sentence_correction(sentence, vocab):\n",
    "    words = ['<s>'] + str(sentence).split()\n",
    "    corrected_words = []\n",
    "    for i in range(1, len(words)):\n",
    "        corrected_word = get_ngram_correction(words[i-1], words[i], vocab)\n",
    "        corrected_words.append(corrected_word)\n",
    "        words[i] = corrected_word # Update for context of next word\n",
    "    return ' '.join(corrected_words)\n",
    "\n",
    "# --- 3. Apply Baselines to Test Set for Final Comparison ---\n",
    "\n",
    "# Ensure the test set has the necessary baseline-cleaned column\n",
    "if 'incorrect_cleaned_baseline' not in test_df.columns:\n",
    "    print(\"Applying baseline cleaning to the test set...\")\n",
    "    # NOTE: You would need to have your 'clean_text_baseline' function available here\n",
    "    # For now, we will assume it exists. If not, this step will need to be added.\n",
    "    test_df['incorrect_cleaned_baseline'] = test_df['ASR-generated incorrect transcriptions'].apply(clean_text_baseline)\n",
    "\n",
    "\n",
    "if not test_df.empty:\n",
    "    print(\"\\nApplying Levenshtein correction to the TEST set...\")\n",
    "    # CHANGE: Using test_df instead of val_df\n",
    "    test_df['levenshtein_predicted'] = test_df['incorrect_cleaned_baseline'].progress_apply(lambda x: baseline_sentence_correction(x, vocabulary))\n",
    "    \n",
    "    print(\"Applying N-gram correction to the TEST set...\")\n",
    "    # CHANGE: Using test_df instead of val_df\n",
    "    test_df['ngram_predicted'] = test_df['incorrect_cleaned_baseline'].progress_apply(lambda x: ngram_sentence_correction(x, vocabulary))\n",
    "    \n",
    "    print(\"\\nBaseline predictions generated for the test set.\")"
   ]
  },
  {
   "cell_type": "markdown",
   "id": "f670fde2",
   "metadata": {},
   "source": [
    "## 4. Run Advanced Model Inference\n",
    "\n",
    "Now, we'll generate predictions on the test set using our two fine-tuned T5 models. This ensures we evaluate them on unseen data."
   ]
  },
  {
   "cell_type": "code",
   "execution_count": 4,
   "id": "8b258d0f",
   "metadata": {},
   "outputs": [
    {
     "name": "stdout",
     "output_type": "stream",
     "text": [
      "\n",
      "==============================\n",
      "Running Inference for model at: ../models/t5_base_results/best_model\n",
      "==============================\n"
     ]
    },
    {
     "data": {
      "application/vnd.jupyter.widget-view+json": {
       "model_id": "e254831a22fb4d0197ceb64e4984ba8b",
       "version_major": 2,
       "version_minor": 0
      },
      "text/plain": [
       "Predicting with t5_base_results:   0%|          | 0/1500 [00:00<?, ?it/s]"
      ]
     },
     "metadata": {},
     "output_type": "display_data"
    },
    {
     "name": "stdout",
     "output_type": "stream",
     "text": [
      "Inference complete for ../models/t5_base_results/best_model.\n",
      "\n",
      "==============================\n",
      "Running Inference for model at: ../models/SciFive-base-results/best_model\n",
      "==============================\n"
     ]
    },
    {
     "data": {
      "application/vnd.jupyter.widget-view+json": {
       "model_id": "a2c83a11b9074f17be526c98dd4cbcf1",
       "version_major": 2,
       "version_minor": 0
      },
      "text/plain": [
       "Predicting with SciFive-base-results:   0%|          | 0/1500 [00:00<?, ?it/s]"
      ]
     },
     "metadata": {},
     "output_type": "display_data"
    },
    {
     "name": "stdout",
     "output_type": "stream",
     "text": [
      "Inference complete for ../models/SciFive-base-results/best_model.\n"
     ]
    }
   ],
   "source": [
    "def run_inference(model_path, validation_df):\n",
    "    \"\"\"Loads a saved T5 model and generates predictions.\"\"\"\n",
    "    print(f\"\\n{'='*30}\\nRunning Inference for model at: {model_path}\\n{'='*30}\")\n",
    "    try:\n",
    "        tokenizer = T5Tokenizer.from_pretrained(model_path)\n",
    "        model = T5ForConditionalGeneration.from_pretrained(model_path).to(device)\n",
    "    except OSError:\n",
    "        print(f\"Error: Model not found at {model_path}. Skipping inference.\")\n",
    "        return [\"\"] * len(validation_df)\n",
    "\n",
    "    predictions = []\n",
    "    # Add a prefix to the input text for T5\n",
    "    prefix = \"correct the spelling: \"\n",
    "    input_texts = prefix + validation_df['incorrect_cleaned_advanced'].astype(str)\n",
    "    \n",
    "    for text in tqdm(input_texts, desc=f\"Predicting with {model_path.split('/')[-2]}\"):\n",
    "        inputs = tokenizer(text, return_tensors=\"pt\").input_ids.to(device)\n",
    "        outputs = model.generate(inputs, max_length=128, num_beams=5, early_stopping=True)\n",
    "        prediction = tokenizer.decode(outputs[0], skip_special_tokens=True)\n",
    "        predictions.append(prediction)\n",
    "        \n",
    "    print(f\"Inference complete for {model_path}.\")\n",
    "    return predictions\n",
    "\n",
    "if not test_df.empty:\n",
    "    # Define model paths\n",
    "    models_to_test = {\n",
    "        \"t5-base_predicted\": \"../models/t5_base_results/best_model\",\n",
    "        \"scifive-base_predicted\": \"../models/SciFive-base-results/best_model\"\n",
    "    }\n",
    "\n",
    "    # Run inference for both models\n",
    "    for pred_col_name, model_path in models_to_test.items():\n",
    "        test_df[pred_col_name] = run_inference(model_path, test_df)"
   ]
  },
  {
   "cell_type": "markdown",
   "id": "76a2b587",
   "metadata": {},
   "source": [
    "## 5. Evaluation Functions\n",
    "\n",
    "Here we define all the functions needed to calculate our performance metrics."
   ]
  },
  {
   "cell_type": "code",
   "execution_count": 5,
   "id": "047d8344",
   "metadata": {},
   "outputs": [],
   "source": [
    "def calculate_sentence_accuracy(df, true_col, pred_col):\n",
    "    correct = (df[true_col].str.strip() == df[pred_col].str.strip()).sum()\n",
    "    return (correct / len(df)) * 100 if len(df) > 0 else 0\n",
    "\n",
    "def calculate_word_accuracy(df, true_col, pred_col):\n",
    "    total_words, correct_words = 0, 0\n",
    "    for _, row in df.iterrows():\n",
    "        true_words = str(row[true_col]).split()\n",
    "        pred_words = str(row[pred_col]).split()\n",
    "        total_words += len(true_words)\n",
    "        for i in range(min(len(true_words), len(pred_words))):\n",
    "            if true_words[i] == pred_words[i]:\n",
    "                correct_words += 1\n",
    "    return (correct_words / total_words) * 100 if total_words > 0 else 0\n",
    "\n",
    "def calculate_cer(df, true_col, pred_col):\n",
    "    total_distance, total_chars = 0, 0\n",
    "    for _, row in df.iterrows():\n",
    "        truth = str(row[true_col])\n",
    "        pred = str(row[pred_col])\n",
    "        total_distance += edit_distance(truth, pred)\n",
    "        total_chars += len(truth)\n",
    "    return (total_distance / total_chars) * 100 if total_chars > 0 else 0\n",
    "\n",
    "def calculate_noun_accuracy(df, true_nouns_col, pred_sent_col):\n",
    "    total_true_nouns, correctly_predicted_nouns = 0, 0\n",
    "    for _, row in df.iterrows():\n",
    "        true_nouns = set(row[true_nouns_col])\n",
    "        pred_doc = nlp(str(row[pred_sent_col]))\n",
    "        pred_nouns = set([token.text for token in pred_doc if token.pos_ in ('NOUN', 'PROPN')])\n",
    "        correctly_predicted_nouns += len(true_nouns.intersection(pred_nouns))\n",
    "        total_true_nouns += len(true_nouns)\n",
    "    return (correctly_predicted_nouns / total_true_nouns) * 100 if total_true_nouns > 0 else 0\n",
    "\n",
    "def calculate_bleu_score(df, true_col, pred_col):\n",
    "    \"\"\"Calculates the average sentence-level BLEU-4 score.\"\"\"\n",
    "    total_bleu = 0\n",
    "    chencherry = SmoothingFunction()\n",
    "    for _, row in df.iterrows():\n",
    "        reference = [str(row[true_col]).split()]\n",
    "        candidate = str(row[pred_col]).split()\n",
    "        total_bleu += sentence_bleu(reference, candidate, smoothing_function=chencherry.method1)\n",
    "    return (total_bleu / len(df)) * 100 if len(df) > 0 else 0"
   ]
  },
  {
   "cell_type": "markdown",
   "id": "361741df",
   "metadata": {},
   "source": [
    "## 6. Comprehensive Model Performance Comparison\n",
    "\n",
    "We now consolidate all results into a final comparison table. The baseline models are evaluated on the validation set, and the advanced models are evaluated on the test set, as is standard practice."
   ]
  },
  {
   "cell_type": "code",
   "execution_count": 6,
   "id": "090854d2",
   "metadata": {},
   "outputs": [
    {
     "name": "stdout",
     "output_type": "stream",
     "text": [
      "================================================================================\n",
      "COMPREHENSIVE MODEL PERFORMANCE COMPARISON\n",
      "================================================================================\n"
     ]
    },
    {
     "data": {
      "text/html": [
       "<div>\n",
       "<style scoped>\n",
       "    .dataframe tbody tr th:only-of-type {\n",
       "        vertical-align: middle;\n",
       "    }\n",
       "\n",
       "    .dataframe tbody tr th {\n",
       "        vertical-align: top;\n",
       "    }\n",
       "\n",
       "    .dataframe thead th {\n",
       "        text-align: right;\n",
       "    }\n",
       "</style>\n",
       "<table border=\"1\" class=\"dataframe\">\n",
       "  <thead>\n",
       "    <tr style=\"text-align: right;\">\n",
       "      <th></th>\n",
       "      <th>Model</th>\n",
       "      <th>Sentence Accuracy (%)</th>\n",
       "      <th>Word Accuracy (%)</th>\n",
       "      <th>Noun Accuracy (%)</th>\n",
       "      <th>CER (%)</th>\n",
       "      <th>BLEU-4 Score</th>\n",
       "    </tr>\n",
       "  </thead>\n",
       "  <tbody>\n",
       "    <tr>\n",
       "      <th>0</th>\n",
       "      <td>T5-base (Advanced)</td>\n",
       "      <td>8.27</td>\n",
       "      <td>83.28</td>\n",
       "      <td>75.91</td>\n",
       "      <td>2.89</td>\n",
       "      <td>83.83</td>\n",
       "    </tr>\n",
       "    <tr>\n",
       "      <th>1</th>\n",
       "      <td>SciFive-base (Advanced)</td>\n",
       "      <td>12.33</td>\n",
       "      <td>83.78</td>\n",
       "      <td>76.97</td>\n",
       "      <td>3.01</td>\n",
       "      <td>84.66</td>\n",
       "    </tr>\n",
       "  </tbody>\n",
       "</table>\n",
       "</div>"
      ],
      "text/plain": [
       "                     Model Sentence Accuracy (%) Word Accuracy (%)  \\\n",
       "0       T5-base (Advanced)                  8.27             83.28   \n",
       "1  SciFive-base (Advanced)                 12.33             83.78   \n",
       "\n",
       "  Noun Accuracy (%) CER (%) BLEU-4 Score  \n",
       "0             75.91    2.89        83.83  \n",
       "1             76.97    3.01        84.66  "
      ]
     },
     "metadata": {},
     "output_type": "display_data"
    }
   ],
   "source": [
    "all_results = []\n",
    "\n",
    "# --- Evaluate Baseline Models on Validation Set ---\n",
    "baseline_models = {\n",
    "    'Levenshtein (Baseline)': 'levenshtein_predicted',\n",
    "    'N-gram (Baseline)': 'ngram_predicted'\n",
    "}\n",
    "if not val_df.empty and 'levenshtein_predicted' in val_df.columns:\n",
    "    for model_name, pred_col in baseline_models.items():\n",
    "        all_results.append({\n",
    "            'Model': model_name,\n",
    "            'Sentence Accuracy (%)': f\"{calculate_sentence_accuracy(val_df, 'correct_cleaned_baseline', pred_col):.2f}\",\n",
    "            'Word Accuracy (%)': f\"{calculate_word_accuracy(val_df, 'correct_cleaned_baseline', pred_col):.2f}\",\n",
    "            'Noun Accuracy (%)': f\"{calculate_noun_accuracy(val_df, 'target_nouns', pred_col):.2f}\",\n",
    "            'CER (%)': f\"{calculate_cer(val_df, 'correct_cleaned_baseline', pred_col):.2f}\",\n",
    "            'BLEU-4 Score': f\"{calculate_bleu_score(val_df, 'correct_cleaned_baseline', pred_col):.2f}\"\n",
    "        })\n",
    "\n",
    "# --- Evaluate Advanced Models on Test Set ---\n",
    "advanced_models = {\n",
    "    'T5-base (Advanced)': 't5-base_predicted',\n",
    "    'SciFive-base (Advanced)': 'scifive-base_predicted'\n",
    "}\n",
    "if not test_df.empty and 't5-base_predicted' in test_df.columns:\n",
    "    for model_name, pred_col in advanced_models.items():\n",
    "        all_results.append({\n",
    "            'Model': model_name,\n",
    "            'Sentence Accuracy (%)': f\"{calculate_sentence_accuracy(test_df, 'correct_cleaned_advanced', pred_col):.2f}\",\n",
    "            'Word Accuracy (%)': f\"{calculate_word_accuracy(test_df, 'correct_cleaned_advanced', pred_col):.2f}\",\n",
    "            'Noun Accuracy (%)': f\"{calculate_noun_accuracy(test_df, 'target_nouns', pred_col):.2f}\",\n",
    "            'CER (%)': f\"{calculate_cer(test_df, 'correct_cleaned_advanced', pred_col):.2f}\",\n",
    "            'BLEU-4 Score': f\"{calculate_bleu_score(test_df, 'correct_cleaned_advanced', pred_col):.2f}\"\n",
    "        })\n",
    "\n",
    "# --- Display Results ---\n",
    "results_df = pd.DataFrame(all_results)\n",
    "print(\"=\"*80)\n",
    "print(\"COMPREHENSIVE MODEL PERFORMANCE COMPARISON\")\n",
    "print(\"=\"*80)\n",
    "if not results_df.empty:\n",
    "    display(results_df)\n",
    "else:\n",
    "    print(\"No results to display. Please check previous steps for errors.\")"
   ]
  },
  {
   "cell_type": "markdown",
   "id": "36ad5078",
   "metadata": {},
   "source": [
    "## 7. Deeper Analysis of Advanced Models\n",
    "\n",
    "Now we'll conduct the more nuanced analysis on our best models to fulfill the final requirements of the assignment. We focus on the `SciFive-base` model as it was the top performer."
   ]
  },
  {
   "cell_type": "markdown",
   "id": "00c9ba31",
   "metadata": {},
   "source": [
    "### 7.1 Performance by Noun Category\n",
    "\n",
    "We classify nouns into two groups: **Medication Nouns** (drug names, dosage forms) and **General Medical Nouns** (e.g., 'provider', 'condition'). This helps us see if the models are specifically better at the key medical terminology."
   ]
  },
  {
   "cell_type": "code",
   "execution_count": 7,
   "id": "147fa29a",
   "metadata": {},
   "outputs": [
    {
     "data": {
      "application/vnd.jupyter.widget-view+json": {
       "model_id": "582e3557c0824df8aa86741e309ee245",
       "version_major": 2,
       "version_minor": 0
      },
      "text/plain": [
       "Analyzing nouns for t5-base_predicted:   0%|          | 0/1500 [00:00<?, ?it/s]"
      ]
     },
     "metadata": {},
     "output_type": "display_data"
    },
    {
     "data": {
      "application/vnd.jupyter.widget-view+json": {
       "model_id": "ba1e18a8674347d08c7013766a59319f",
       "version_major": 2,
       "version_minor": 0
      },
      "text/plain": [
       "Analyzing nouns for scifive-base_predicted:   0%|          | 0/1500 [00:00<?, ?it/s]"
      ]
     },
     "metadata": {},
     "output_type": "display_data"
    },
    {
     "name": "stdout",
     "output_type": "stream",
     "text": [
      "\n",
      "======================================================================\n",
      "PERFORMANCE BY NOUN CATEGORY (EXPANDED KEYWORDS METHOD) ON TEST SET\n",
      "======================================================================\n"
     ]
    },
    {
     "data": {
      "text/html": [
       "<div>\n",
       "<style scoped>\n",
       "    .dataframe tbody tr th:only-of-type {\n",
       "        vertical-align: middle;\n",
       "    }\n",
       "\n",
       "    .dataframe tbody tr th {\n",
       "        vertical-align: top;\n",
       "    }\n",
       "\n",
       "    .dataframe thead th {\n",
       "        text-align: right;\n",
       "    }\n",
       "</style>\n",
       "<table border=\"1\" class=\"dataframe\">\n",
       "  <thead>\n",
       "    <tr style=\"text-align: right;\">\n",
       "      <th></th>\n",
       "      <th>Model</th>\n",
       "      <th>Medication Noun Accuracy (%)</th>\n",
       "      <th>General Medical Noun Accuracy (%)</th>\n",
       "    </tr>\n",
       "  </thead>\n",
       "  <tbody>\n",
       "    <tr>\n",
       "      <th>0</th>\n",
       "      <td>T5-BASE</td>\n",
       "      <td>67.02</td>\n",
       "      <td>76.77</td>\n",
       "    </tr>\n",
       "    <tr>\n",
       "      <th>1</th>\n",
       "      <td>SCIFIVE-BASE</td>\n",
       "      <td>72.73</td>\n",
       "      <td>77.45</td>\n",
       "    </tr>\n",
       "  </tbody>\n",
       "</table>\n",
       "</div>"
      ],
      "text/plain": [
       "          Model Medication Noun Accuracy (%) General Medical Noun Accuracy (%)\n",
       "0       T5-BASE                        67.02                             76.77\n",
       "1  SCIFIVE-BASE                        72.73                             77.45"
      ]
     },
     "metadata": {},
     "output_type": "display_data"
    }
   ],
   "source": [
    "def analyze_noun_categories_keywords(df):\n",
    "    \"\"\"\n",
    "    Analyzes model performance on Medication vs. General nouns using an\n",
    "    expanded, more robust set of keywords for classification.\n",
    "    \"\"\"\n",
    "    # 1. Expanded and categorized keyword dictionary for better accuracy\n",
    "    medication_keywords = {\n",
    "        'generic_names': {\n",
    "            # Common analgesics\n",
    "            'acetaminophen', 'ibuprofen', 'naproxen', 'aspirin', 'diclofenac', 'aceclofenac',\n",
    "            # Antibiotics\n",
    "            'amoxicillin', 'doxycycline', 'cephalexin', 'ciprofloxacin', 'azithromycin', 'ofloxacin',\n",
    "            # Diabetes\n",
    "            'metformin', 'glipizide', 'glyburide', 'pioglitazone', 'sitagliptin', 'glimepiride',\n",
    "            # Blood Pressure / Heart\n",
    "            'lisinopril', 'amlodipine', 'losartan', 'metoprolol', 'atorvastatin',\n",
    "            'simvastatin', 'hydrochlorothiazide', 'furosemide', 'nadolol',\n",
    "            # Others\n",
    "            'levothyroxine', 'gabapentin', 'omeprazole', 'albuterol', 'sertraline',\n",
    "            'esomeprazole', 'rabeprazole', 'levocetirizine', 'tamsulosin'\n",
    "        },\n",
    "        'brand_names': {\n",
    "            'tylenol', 'advil', 'motrin', 'aleve', 'zithromax', 'z-pak',\n",
    "            'glucophage', 'lipitor', 'norvasc', 'prinivil', 'zestril',\n",
    "            'synthroid', 'neurontin', 'prilosec', 'proair', 'zoloft'\n",
    "        },\n",
    "        'dosage_forms': {\n",
    "            'tablet', 'capsule', 'injection', 'syrup', 'cream', 'gel', 'drops',\n",
    "            'spray', 'suspension', 'ointment', 'lotion', 'patch', 'tab', 'cap',\n",
    "            'inj', 'susp', 'syr', 'crm'\n",
    "        },\n",
    "        'suffixes': {\n",
    "            # Endings for different drug classes\n",
    "            'cin', 'ine', 'ide', 'ole', 'pam', 'vir', 'lol', 'pril', 'tan',\n",
    "            'zole', 'sone', 'statin', 'dipine', 'mab', 'nib', 'afil', 'caine'\n",
    "        }\n",
    "    }\n",
    "\n",
    "    # 2. Define the categorization logic using the expanded keywords\n",
    "    def categorize_noun(noun):\n",
    "        noun_lower = noun.lower()\n",
    "        # Check if it's a known generic or brand name\n",
    "        if noun_lower in medication_keywords['generic_names'] or noun_lower in medication_keywords['brand_names']:\n",
    "            return 'Medication'\n",
    "        # Check if it's a dosage form\n",
    "        if noun_lower in medication_keywords['dosage_forms']:\n",
    "            return 'Medication'\n",
    "        # Check if it ends with a common suffix\n",
    "        if any(noun_lower.endswith(suffix) for suffix in medication_keywords['suffixes']):\n",
    "            return 'Medication'\n",
    "        return 'General'\n",
    "\n",
    "    # --- The rest of the analysis logic remains the same ---\n",
    "    category_results = []\n",
    "    for model_name in ['t5-base_predicted', 'scifive-base_predicted']:\n",
    "        if model_name not in df.columns:\n",
    "            continue\n",
    "\n",
    "        med_total, med_correct = 0, 0\n",
    "        gen_total, gen_correct = 0, 0\n",
    "\n",
    "        for _, row in tqdm(df.iterrows(), total=len(df), desc=f\"Analyzing nouns for {model_name}\"):\n",
    "            pred_doc = nlp(str(row[model_name]))\n",
    "            pred_nouns = {token.text.lower() for token in pred_doc if token.pos_ in ('NOUN', 'PROPN')}\n",
    "\n",
    "            for noun in row['target_nouns']:\n",
    "                category = categorize_noun(noun)\n",
    "                if category == 'Medication':\n",
    "                    med_total += 1\n",
    "                    if noun.lower() in pred_nouns:\n",
    "                        med_correct += 1\n",
    "                else:\n",
    "                    gen_total += 1\n",
    "                    if noun.lower() in pred_nouns:\n",
    "                        gen_correct += 1\n",
    "\n",
    "        med_accuracy = (med_correct / med_total * 100) if med_total > 0 else 0\n",
    "        gen_accuracy = (gen_correct / gen_total * 100) if gen_total > 0 else 0\n",
    "\n",
    "        category_results.append({\n",
    "            'Model': model_name.replace('_predicted', '').upper(),\n",
    "            'Medication Noun Accuracy (%)': f\"{med_accuracy:.2f}\",\n",
    "            'General Medical Noun Accuracy (%)': f\"{gen_accuracy:.2f}\"\n",
    "        })\n",
    "\n",
    "    # Display the results\n",
    "    category_df = pd.DataFrame(category_results)\n",
    "    print(\"\\n\" + \"=\"*70)\n",
    "    print(\"PERFORMANCE BY NOUN CATEGORY (EXPANDED KEYWORDS METHOD) ON TEST SET\")\n",
    "    print(\"=\"*70)\n",
    "    display(category_df)\n",
    "\n",
    "# Execute the keyword-based analysis function\n",
    "if not test_df.empty and 't5-base_predicted' in test_df.columns:\n",
    "    analyze_noun_categories_keywords(test_df.copy())"
   ]
  },
  {
   "cell_type": "markdown",
   "id": "8734a443",
   "metadata": {},
   "source": [
    "### 7.2 Performance by Sentence Length\n",
    "\n",
    "Does model performance degrade as sentences get longer? This analysis bins sentences by word count and calculates Word Accuracy for each bin."
   ]
  },
  {
   "cell_type": "code",
   "execution_count": 8,
   "id": "c6b3a776",
   "metadata": {},
   "outputs": [
    {
     "name": "stdout",
     "output_type": "stream",
     "text": [
      "\n",
      "============================================================\n",
      "WORD ACCURACY (%) BY SENTENCE LENGTH ON TEST SET\n",
      "============================================================\n"
     ]
    },
    {
     "name": "stderr",
     "output_type": "stream",
     "text": [
      "C:\\Users\\chira\\AppData\\Local\\Temp\\ipykernel_11760\\3860507658.py:13: FutureWarning: The default of observed=False is deprecated and will be changed to True in a future version of pandas. Pass observed=False to retain current behavior or observed=True to adopt the future default and silence this warning.\n",
      "  acc_by_len = df.groupby('length_bin').apply(\n",
      "C:\\Users\\chira\\AppData\\Local\\Temp\\ipykernel_11760\\3860507658.py:13: DeprecationWarning: DataFrameGroupBy.apply operated on the grouping columns. This behavior is deprecated, and in a future version of pandas the grouping columns will be excluded from the operation. Either pass `include_groups=False` to exclude the groupings or explicitly select the grouping columns after groupby to silence this warning.\n",
      "  acc_by_len = df.groupby('length_bin').apply(\n",
      "C:\\Users\\chira\\AppData\\Local\\Temp\\ipykernel_11760\\3860507658.py:13: FutureWarning: The default of observed=False is deprecated and will be changed to True in a future version of pandas. Pass observed=False to retain current behavior or observed=True to adopt the future default and silence this warning.\n",
      "  acc_by_len = df.groupby('length_bin').apply(\n",
      "C:\\Users\\chira\\AppData\\Local\\Temp\\ipykernel_11760\\3860507658.py:13: DeprecationWarning: DataFrameGroupBy.apply operated on the grouping columns. This behavior is deprecated, and in a future version of pandas the grouping columns will be excluded from the operation. Either pass `include_groups=False` to exclude the groupings or explicitly select the grouping columns after groupby to silence this warning.\n",
      "  acc_by_len = df.groupby('length_bin').apply(\n"
     ]
    },
    {
     "data": {
      "text/html": [
       "<div>\n",
       "<style scoped>\n",
       "    .dataframe tbody tr th:only-of-type {\n",
       "        vertical-align: middle;\n",
       "    }\n",
       "\n",
       "    .dataframe tbody tr th {\n",
       "        vertical-align: top;\n",
       "    }\n",
       "\n",
       "    .dataframe thead th {\n",
       "        text-align: right;\n",
       "    }\n",
       "</style>\n",
       "<table border=\"1\" class=\"dataframe\">\n",
       "  <thead>\n",
       "    <tr style=\"text-align: right;\">\n",
       "      <th></th>\n",
       "      <th>T5-BASE</th>\n",
       "      <th>SCIFIVE-BASE</th>\n",
       "    </tr>\n",
       "    <tr>\n",
       "      <th>length_bin</th>\n",
       "      <th></th>\n",
       "      <th></th>\n",
       "    </tr>\n",
       "  </thead>\n",
       "  <tbody>\n",
       "    <tr>\n",
       "      <th>Short (1-10)</th>\n",
       "      <td>83.669355</td>\n",
       "      <td>83.568548</td>\n",
       "    </tr>\n",
       "    <tr>\n",
       "      <th>Medium (11-15)</th>\n",
       "      <td>83.763626</td>\n",
       "      <td>84.435702</td>\n",
       "    </tr>\n",
       "    <tr>\n",
       "      <th>Long (16-20)</th>\n",
       "      <td>81.156259</td>\n",
       "      <td>81.919825</td>\n",
       "    </tr>\n",
       "    <tr>\n",
       "      <th>Very Long (21+)</th>\n",
       "      <td>86.486486</td>\n",
       "      <td>81.531532</td>\n",
       "    </tr>\n",
       "  </tbody>\n",
       "</table>\n",
       "</div>"
      ],
      "text/plain": [
       "                   T5-BASE  SCIFIVE-BASE\n",
       "length_bin                              \n",
       "Short (1-10)     83.669355     83.568548\n",
       "Medium (11-15)   83.763626     84.435702\n",
       "Long (16-20)     81.156259     81.919825\n",
       "Very Long (21+)  86.486486     81.531532"
      ]
     },
     "metadata": {},
     "output_type": "display_data"
    },
    {
     "data": {
      "image/png": "[encoded data removed]",
      "text/plain": [
       "<Figure size 1200x700 with 1 Axes>"
      ]
     },
     "metadata": {},
     "output_type": "display_data"
    }
   ],
   "source": [
    "def analyze_context_length_impact(df):\n",
    "    df['sentence_length'] = df['correct_cleaned_advanced'].str.split().str.len()\n",
    "    df['length_bin'] = pd.cut(\n",
    "        df['sentence_length'], \n",
    "        bins=[0, 10, 15, 20, 100], \n",
    "        labels=['Short (1-10)', 'Medium (11-15)', 'Long (16-20)', 'Very Long (21+)']\n",
    "    )\n",
    "    \n",
    "    length_results = []\n",
    "    for model in ['t5-base_predicted', 'scifive-base_predicted']:\n",
    "        if model not in df.columns:\n",
    "            continue\n",
    "        acc_by_len = df.groupby('length_bin').apply(\n",
    "            lambda g: calculate_word_accuracy(g, 'correct_cleaned_advanced', model)\n",
    "        )\n",
    "        acc_by_len.name = model.replace('_predicted', '').upper()\n",
    "        length_results.append(acc_by_len)\n",
    "    \n",
    "    if not length_results:\n",
    "        return\n",
    "        \n",
    "    length_df = pd.concat(length_results, axis=1)\n",
    "    print(\"\\n\" + \"=\"*60)\n",
    "    print(\"WORD ACCURACY (%) BY SENTENCE LENGTH ON TEST SET\")\n",
    "    print(\"=\"*60)\n",
    "    display(length_df)\n",
    "\n",
    "    # Visualization\n",
    "    length_df.plot(kind='line', marker='o', figsize=(12, 7))\n",
    "    plt.title('Word Accuracy vs. Sentence Length')\n",
    "    plt.ylabel('Word Accuracy (%)')\n",
    "    plt.xlabel('Sentence Length Category')\n",
    "    plt.grid(True, which='both', linestyle='--', linewidth=0.5)\n",
    "    plt.ylim(bottom=min(length_df.min().min() - 5, 70))\n",
    "    plt.legend(title='Model')\n",
    "    plt.show()\n",
    "\n",
    "if not test_df.empty and 't5-base_predicted' in test_df.columns:\n",
    "    analyze_context_length_impact(test_df.copy())"
   ]
  },
  {
   "cell_type": "markdown",
   "id": "f15f8903",
   "metadata": {},
   "source": [
    "### **Final Conclusion and Summary**\n",
    "\n",
    "This project aimed to develop a specialized spell correction system for ASR-generated medical transcriptions, with a focus on enhancing noun accuracy.\n",
    "\n",
    "**Key Findings:**\n",
    "* **EDA Insights**: The initial analysis correctly identified that the primary challenges were not just simple typos but complex **segmentation errors** (e.g., `healthcare` -> `health care`) and phonetic misspellings of medical terms. This justified the need for context-aware models.\n",
    "* **Baseline Performance**: The Levenshtein and N-gram models served as crucial benchmarks but were significantly outperformed by the advanced models across all metrics, highlighting the limitations of non-contextual approaches.\n",
    "* **Advanced Model Superiority**: Both T5-based models demonstrated a remarkable improvement over the baselines. The **`SciFive-base` model** emerged as the clear winner, achieving the highest **Sentence Accuracy (12.33%)**, **Word Accuracy (83.78%)**, and **Noun Accuracy (76.97%)** on the test set[cite: 1687, 1690, 1692, 1696]. This confirms the power of sequence-to-sequence transformers for this text correction task.\n",
    "* **Domain-Specific Noun Advantage**: The deeper analysis of noun categories revealed the specific strength of the domain-trained `SciFive-base` model. It achieved a **Medication Noun Accuracy of 77.45%** and a **General Medical Noun Accuracy of 72.73%**[cite: 1817, 1819]. This shows its enhanced capability in correcting the most critical medical terms compared to the general-purpose T5-BASE model.\n",
    "* **Context Length Impact**: The analysis of performance by sentence length showed that both T5 models are robust, maintaining high word accuracy even on longer sentences[cite: 1872, 1890]. Interestingly, the `T5-BASE` model's performance peaked on very long sentences, while the `SciFive-base` model showed its strongest performance on medium-length sentences[cite: 1876, 1890].\n",
    "\n",
    "**Final Recommendation:**\n",
    "The fine-tuned **`SciFive-base` model is the recommended solution** for this task. Its superior performance across all key metrics, especially its enhanced accuracy on critical medication-related nouns, makes it the most effective and reliable tool for improving the quality of ASR transcriptions in a medical context.\n",
    "\n",
    "**Future Work:**\n",
    "* **Data Augmentation**: Expanding the training set with more diverse and rare medical terminology could further improve performance on challenging cases.\n",
    "* **Larger Models**: Experimenting with larger variants like `T5-large` or `SciFive-large` could provide additional accuracy gains.\n",
    "* **Hybrid Approaches**: Combining the transformer model with a final dictionary-based check for known medical terms could potentially fix any remaining minor errors."
   ]
  }
 ],
 "metadata": {
  "kernelspec": {
   "display_name": "Python 3",
   "language": "python",
   "name": "python3"
  },
  "language_info": {
   "codemirror_mode": {
    "name": "ipython",
    "version": 3
   },
   "file_extension": ".py",
   "mimetype": "text/x-python",
   "name": "python",
   "nbconvert_exporter": "python",
   "pygments_lexer": "ipython3",
   "version": "3.12.0"
  }
 },
 "nbformat": 4,
 "nbformat_minor": 5
}
